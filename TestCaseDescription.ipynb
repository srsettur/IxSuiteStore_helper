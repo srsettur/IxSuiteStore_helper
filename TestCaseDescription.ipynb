{
 "cells": [
  {
   "cell_type": "markdown",
   "id": "4819f5b5",
   "metadata": {
    "toc": true
   },
   "source": [
    "<h1>Test Script Description<span class=\"tocSkip\"></span></h1>\n",
    "<div class=\"toc\"><ul class=\"toc-item\"><li><span><a href=\"#1.-Quick-Tests:\" data-toc-modified-id=\"1.-Quick-Tests:-1\">1. Quick Tests:</a></span><ul class=\"toc-item\"><li><span><a href=\"#1.1-STARTUP-TEST\" data-toc-modified-id=\"1.1-STARTUP-TEST-1.1\">1.1 STARTUP TEST</a></span><ul class=\"toc-item\"><li><span><a href=\"#1.1.1-test_smoking_2_1\" data-toc-modified-id=\"1.1.1-test_smoking_2_1-1.1.1\">1.1.1 test_smoking_2_1</a></span></li><li><span><a href=\"#1.1.2-test_smoking_2_2\" data-toc-modified-id=\"1.1.2-test_smoking_2_2-1.1.2\">1.1.2 test_smoking_2_2</a></span></li><li><span><a href=\"#1.1.3-test_smoking_2_3\" data-toc-modified-id=\"1.1.3-test_smoking_2_3-1.1.3\">1.1.3 test_smoking_2_3</a></span></li><li><span><a href=\"#1.1.4-test_smoking_2_4\" data-toc-modified-id=\"1.1.4-test_smoking_2_4-1.1.4\">1.1.4 test_smoking_2_4</a></span></li><li><span><a href=\"#1.1.5-test_smoking_2_5\" data-toc-modified-id=\"1.1.5-test_smoking_2_5-1.1.5\">1.1.5 test_smoking_2_5</a></span></li><li><span><a href=\"#1.1.6-test_smoking_2_8\" data-toc-modified-id=\"1.1.6-test_smoking_2_8-1.1.6\">1.1.6 test_smoking_2_8</a></span></li><li><span><a href=\"#1.1.7-test_machine_restart\" data-toc-modified-id=\"1.1.7-test_machine_restart-1.1.7\">1.1.7 test_machine_restart</a></span></li></ul></li><li><span><a href=\"#1.2-BASIC-PROTOCOL-TESTS\" data-toc-modified-id=\"1.2-BASIC-PROTOCOL-TESTS-1.2\">1.2 BASIC PROTOCOL TESTS</a></span><ul class=\"toc-item\"><li><span><a href=\"#1.2.1-test_smoking_2_7\" data-toc-modified-id=\"1.2.1-test_smoking_2_7-1.2.1\">1.2.1 test_smoking_2_7</a></span></li><li><span><a href=\"#1.2.2-test_smoking_2_10\" data-toc-modified-id=\"1.2.2-test_smoking_2_10-1.2.2\">1.2.2 test_smoking_2_10</a></span></li><li><span><a href=\"#1.2.3-test_smoking_2_11\" data-toc-modified-id=\"1.2.3-test_smoking_2_11-1.2.3\">1.2.3 test_smoking_2_11</a></span></li><li><span><a href=\"#1.2.4-test_smoking_2_12_1\" data-toc-modified-id=\"1.2.4-test_smoking_2_12_1-1.2.4\">1.2.4 test_smoking_2_12_1</a></span></li><li><span><a href=\"#1.2.5-test_smoking_2_12_2\" data-toc-modified-id=\"1.2.5-test_smoking_2_12_2-1.2.5\">1.2.5 test_smoking_2_12_2</a></span></li><li><span><a href=\"#1.2.6-test_smoking_2_12_2_3\" data-toc-modified-id=\"1.2.6-test_smoking_2_12_2_3-1.2.6\">1.2.6 test_smoking_2_12_2_3</a></span></li><li><span><a href=\"#1.2.7-test_smoking_2_12_3\" data-toc-modified-id=\"1.2.7-test_smoking_2_12_3-1.2.7\">1.2.7 test_smoking_2_12_3</a></span></li><li><span><a href=\"#1.2.8-test_smoking_2_13\" data-toc-modified-id=\"1.2.8-test_smoking_2_13-1.2.8\">1.2.8 test_smoking_2_13</a></span></li><li><span><a href=\"#1.2.9-test_smoking_2_14\" data-toc-modified-id=\"1.2.9-test_smoking_2_14-1.2.9\">1.2.9 test_smoking_2_14</a></span></li></ul></li></ul></li><li><span><a href=\"#2.-IPv4-Feature-Tests\" data-toc-modified-id=\"2.-IPv4-Feature-Tests-2\">2. IPv4 Feature Tests</a></span><ul class=\"toc-item\"><li><span><a href=\"#2.1-test_ipv4_from_down_status\" data-toc-modified-id=\"2.1-test_ipv4_from_down_status-2.1\">2.1 test_ipv4_from_down_status</a></span></li><li><span><a href=\"#2.2-test_ipv4_from_up_status\" data-toc-modified-id=\"2.2-test_ipv4_from_up_status-2.2\">2.2 test_ipv4_from_up_status</a></span></li><li><span><a href=\"#2.3-test_ipv4_l3_msg\" data-toc-modified-id=\"2.3-test_ipv4_l3_msg-2.3\">2.3 test_ipv4_l3_msg</a></span></li><li><span><a href=\"#2.4-test_ipv4_with_multiple_address_mask\" data-toc-modified-id=\"2.4-test_ipv4_with_multiple_address_mask-2.4\">2.4 test_ipv4_with_multiple_address_mask</a></span></li><li><span><a href=\"#2.5-test_ipv4_with_second_ip\" data-toc-modified-id=\"2.5-test_ipv4_with_second_ip-2.5\">2.5 test_ipv4_with_second_ip</a></span></li></ul></li><li><span><a href=\"#3.-IPv6-Feature-Tests:\" data-toc-modified-id=\"3.-IPv6-Feature-Tests:-3\">3. IPv6 Feature Tests:</a></span><ul class=\"toc-item\"><li><span><a href=\"#3.1-test_ipv6_6_1\" data-toc-modified-id=\"3.1-test_ipv6_6_1-3.1\">3.1 test_ipv6_6_1</a></span></li><li><span><a href=\"#3.2-test_ipv6_8_1\" data-toc-modified-id=\"3.2-test_ipv6_8_1-3.2\">3.2 test_ipv6_8_1</a></span></li><li><span><a href=\"#3.3-test_ipv6_8_2\" data-toc-modified-id=\"3.3-test_ipv6_8_2-3.3\">3.3 test_ipv6_8_2</a></span></li><li><span><a href=\"#3.4-test_ipv6_aggregation_port\" data-toc-modified-id=\"3.4-test_ipv6_aggregation_port-3.4\">3.4 test_ipv6_aggregation_port</a></span></li><li><span><a href=\"#3.5-test_ipv6_from_down_status\" data-toc-modified-id=\"3.5-test_ipv6_from_down_status-3.5\">3.5 test_ipv6_from_down_status</a></span></li><li><span><a href=\"#3.6-test_ipv6_from_up_status\" data-toc-modified-id=\"3.6-test_ipv6_from_up_status-3.6\">3.6 test_ipv6_from_up_status</a></span></li><li><span><a href=\"#3.7-test_ipv6_loopback_interface\" data-toc-modified-id=\"3.7-test_ipv6_loopback_interface-3.7\">3.7 test_ipv6_loopback_interface</a></span></li><li><span><a href=\"#3.8-test_ipv6_nd_converting_route\" data-toc-modified-id=\"3.8-test_ipv6_nd_converting_route-3.8\">3.8 test_ipv6_nd_converting_route</a></span></li><li><span><a href=\"#3.9-test_ipv6_nd_scale\" data-toc-modified-id=\"3.9-test_ipv6_nd_scale-3.9\">3.9 test_ipv6_nd_scale</a></span></li><li><span><a href=\"#3.10-test_ipv6_neighbor_discovery\" data-toc-modified-id=\"3.10-test_ipv6_neighbor_discovery-3.10\">3.10 test_ipv6_neighbor_discovery</a></span></li><li><span><a href=\"#3.11-test_nd_performance\" data-toc-modified-id=\"3.11-test_nd_performance-3.11\">3.11 test_nd_performance</a></span></li><li><span><a href=\"#3.12-test_ipv6_source_address_restrain_forwarding\" data-toc-modified-id=\"3.12-test_ipv6_source_address_restrain_forwarding-3.12\">3.12 test_ipv6_source_address_restrain_forwarding</a></span></li><li><span><a href=\"#3.13-test_ipv6_source_address_selection\" data-toc-modified-id=\"3.13-test_ipv6_source_address_selection-3.13\">3.13 test_ipv6_source_address_selection</a></span></li><li><span><a href=\"#3.14-test_ipv6_static_route\" data-toc-modified-id=\"3.14-test_ipv6_static_route-3.14\">3.14 test_ipv6_static_route</a></span></li><li><span><a href=\"#3.15-test_ipv6_traffic_bgp\" data-toc-modified-id=\"3.15-test_ipv6_traffic_bgp-3.15\">3.15 test_ipv6_traffic_bgp</a></span></li><li><span><a href=\"#3.16-test_ipv6_with_multiple_address_prefix\" data-toc-modified-id=\"3.16-test_ipv6_with_multiple_address_prefix-3.16\">3.16 test_ipv6_with_multiple_address_prefix</a></span></li><li><span><a href=\"#3.17-test_ipv6_with_protocol_down_and_l3_interface\" data-toc-modified-id=\"3.17-test_ipv6_with_protocol_down_and_l3_interface-3.17\">3.17 test_ipv6_with_protocol_down_and_l3_interface</a></span></li><li><span><a href=\"#3.18-test_ipv6_with_second_ip\" data-toc-modified-id=\"3.18-test_ipv6_with_second_ip-3.18\">3.18 test_ipv6_with_second_ip</a></span></li></ul></li><li><span><a href=\"#4.-L2-Feature-Tests\" data-toc-modified-id=\"4.-L2-Feature-Tests-4\">4. L2 Feature Tests</a></span><ul class=\"toc-item\"><li><span><a href=\"#4.1-test_l2_port_mtu_settings\" data-toc-modified-id=\"4.1-test_l2_port_mtu_settings-4.1\">4.1 test_l2_port_mtu_settings</a></span></li><li><span><a href=\"#4.2-test_l2_port_speed_fec\" data-toc-modified-id=\"4.2-test_l2_port_speed_fec-4.2\">4.2 test_l2_port_speed_fec</a></span></li><li><span><a href=\"#4.3-test_l2_port_statistics\" data-toc-modified-id=\"4.3-test_l2_port_statistics-4.3\">4.3 test_l2_port_statistics</a></span></li><li><span><a href=\"#4.4-test_l2_port_up_down\" data-toc-modified-id=\"4.4-test_l2_port_up_down-4.4\">4.4 test_l2_port_up_down</a></span></li></ul></li><li><span><a href=\"#5.-RFC-Tests\" data-toc-modified-id=\"5.-RFC-Tests-5\">5. RFC Tests</a></span><ul class=\"toc-item\"><li><span><a href=\"#5.1-test_RFC2544\" data-toc-modified-id=\"5.1-test_RFC2544-5.1\">5.1 test_RFC2544</a></span></li></ul></li><li><span><a href=\"#6.-QOS-Tests:\" data-toc-modified-id=\"6.-QOS-Tests:-6\">6. QOS Tests:</a></span><ul class=\"toc-item\"><li><span><a href=\"#6.1-test_qos\" data-toc-modified-id=\"6.1-test_qos-6.1\">6.1 test_qos</a></span></li></ul></li><li><span><a href=\"#7.-VLAN-Feature-Tests:\" data-toc-modified-id=\"7.-VLAN-Feature-Tests:-7\">7. VLAN Feature Tests:</a></span><ul class=\"toc-item\"><li><span><a href=\"#7.1-test_vlan_performance\" data-toc-modified-id=\"7.1-test_vlan_performance-7.1\">7.1 test_vlan_performance</a></span></li><li><span><a href=\"#7.2-test_l3_vlan_settings\" data-toc-modified-id=\"7.2-test_l3_vlan_settings-7.2\">7.2 test_l3_vlan_settings</a></span></li><li><span><a href=\"#7.3-test_l3_vlan_performance\" data-toc-modified-id=\"7.3-test_l3_vlan_performance-7.3\">7.3 test_l3_vlan_performance</a></span></li><li><span><a href=\"#7.4-test_l2_vlan_settings\" data-toc-modified-id=\"7.4-test_l2_vlan_settings-7.4\">7.4 test_l2_vlan_settings</a></span></li><li><span><a href=\"#7.5-test_ipv6_with_protocol_down_and_vlan_interface\" data-toc-modified-id=\"7.5-test_ipv6_with_protocol_down_and_vlan_interface-7.5\">7.5 test_ipv6_with_protocol_down_and_vlan_interface</a></span></li></ul></li><li><span><a href=\"#8.-ACL-Feature-Tests:\" data-toc-modified-id=\"8.-ACL-Feature-Tests:-8\">8. ACL Feature Tests:</a></span><ul class=\"toc-item\"><li><span><a href=\"#8.1-test_acl_performance\" data-toc-modified-id=\"8.1-test_acl_performance-8.1\">8.1 test_acl_performance</a></span></li></ul></li><li><span><a href=\"#9.-ARP-Feature-Tests:\" data-toc-modified-id=\"9.-ARP-Feature-Tests:-9\">9. ARP Feature Tests:</a></span><ul class=\"toc-item\"><li><span><a href=\"#9.1-test_arp_performance\" data-toc-modified-id=\"9.1-test_arp_performance-9.1\">9.1 test_arp_performance</a></span></li><li><span><a href=\"#9.2-test_arp_proxy\" data-toc-modified-id=\"9.2-test_arp_proxy-9.2\">9.2 test_arp_proxy</a></span></li><li><span><a href=\"#9.3-test_l3_vlan_performance\" data-toc-modified-id=\"9.3-test_l3_vlan_performance-9.3\">9.3 test_l3_vlan_performance</a></span></li><li><span><a href=\"#9.4-test_l2_vlan_settings\" data-toc-modified-id=\"9.4-test_l2_vlan_settings-9.4\">9.4 test_l2_vlan_settings</a></span></li><li><span><a href=\"#9.5-test_ipv6_with_protocol_down_and_vlan_interface\" data-toc-modified-id=\"9.5-test_ipv6_with_protocol_down_and_vlan_interface-9.5\">9.5 test_ipv6_with_protocol_down_and_vlan_interface</a></span></li><li><span><a href=\"#9.6-test_ipv4_l3_arp\" data-toc-modified-id=\"9.6-test_ipv4_l3_arp-9.6\">9.6 test_ipv4_l3_arp</a></span></li><li><span><a href=\"#9.7-test_mac_performance\" data-toc-modified-id=\"9.7-test_mac_performance-9.7\">9.7 test_mac_performance</a></span></li></ul></li><li><span><a href=\"#10.-DUAL-STACK-Feature-Tests:\" data-toc-modified-id=\"10.-DUAL-STACK-Feature-Tests:-10\">10. DUAL-STACK Feature Tests:</a></span><ul class=\"toc-item\"><li><span><a href=\"#10.1-test_ipv4_ipv6_err_frame_processing\" data-toc-modified-id=\"10.1-test_ipv4_ipv6_err_frame_processing-10.1\">10.1 test_ipv4_ipv6_err_frame_processing</a></span></li><li><span><a href=\"#10.2-test_ipv4_ipv6_l2_msg\" data-toc-modified-id=\"10.2-test_ipv4_ipv6_l2_msg-10.2\">10.2 test_ipv4_ipv6_l2_msg</a></span></li><li><span><a href=\"#10.3-test_ipv4_ipv6_maxip\" data-toc-modified-id=\"10.3-test_ipv4_ipv6_maxip-10.3\">10.3 test_ipv4_ipv6_maxip</a></span></li><li><span><a href=\"#10.4-test_ipv4_ipv6_rfc2544\" data-toc-modified-id=\"10.4-test_ipv4_ipv6_rfc2544-10.4\">10.4 test_ipv4_ipv6_rfc2544</a></span></li><li><span><a href=\"#10.5-test_ipv4_ipv6_route_forwarding\" data-toc-modified-id=\"10.5-test_ipv4_ipv6_route_forwarding-10.5\">10.5 test_ipv4_ipv6_route_forwarding</a></span></li><li><span><a href=\"#10.6-test_ipv4_ipv6_with_aggregation_interface\" data-toc-modified-id=\"10.6-test_ipv4_ipv6_with_aggregation_interface-10.6\">10.6 test_ipv4_ipv6_with_aggregation_interface</a></span></li><li><span><a href=\"#10.7-test_ipv4_ipv6_with_l3_interface\" data-toc-modified-id=\"10.7-test_ipv4_ipv6_with_l3_interface-10.7\">10.7 test_ipv4_ipv6_with_l3_interface</a></span></li><li><span><a href=\"#10.8-test_ipv4_ipv6_with_vlan_interface\" data-toc-modified-id=\"10.8-test_ipv4_ipv6_with_vlan_interface-10.8\">10.8 test_ipv4_ipv6_with_vlan_interface</a></span></li></ul></li><li><span><a href=\"#11.-BGP-Feature-Tests\" data-toc-modified-id=\"11.-BGP-Feature-Tests-11\">11. BGP Feature Tests</a></span><ul class=\"toc-item\"><li><span><a href=\"#11.1-test_bgp_ecmp_convergence_speed\" data-toc-modified-id=\"11.1-test_bgp_ecmp_convergence_speed-11.1\">11.1 test_bgp_ecmp_convergence_speed</a></span></li><li><span><a href=\"#11.2-test_bgp_ecmp_flap\" data-toc-modified-id=\"11.2-test_bgp_ecmp_flap-11.2\">11.2 test_bgp_ecmp_flap</a></span></li><li><span><a href=\"#11.3-test_bgp_functions\" data-toc-modified-id=\"11.3-test_bgp_functions-11.3\">11.3 test_bgp_functions</a></span></li><li><span><a href=\"#11.4-test_bgp_neighbor_number_flip_performance\" data-toc-modified-id=\"11.4-test_bgp_neighbor_number_flip_performance-11.4\">11.4 test_bgp_neighbor_number_flip_performance</a></span></li><li><span><a href=\"#11.5-test_bgp_pressure_ecmp\" data-toc-modified-id=\"11.5-test_bgp_pressure_ecmp-11.5\">11.5 test_bgp_pressure_ecmp</a></span></li><li><span><a href=\"#11.6-test_bgp_pressure_general\" data-toc-modified-id=\"11.6-test_bgp_pressure_general-11.6\">11.6 test_bgp_pressure_general</a></span></li><li><span><a href=\"#11.7-test_bgp_route_flap\" data-toc-modified-id=\"11.7-test_bgp_route_flap-11.7\">11.7 test_bgp_route_flap</a></span></li><li><span><a href=\"#11.8-test_ebgp_convergence_speed\" data-toc-modified-id=\"11.8-test_ebgp_convergence_speed-11.8\">11.8 test_ebgp_convergence_speed</a></span></li><li><span><a href=\"#11.9-test_ebgp_high_capacity_routing\" data-toc-modified-id=\"11.9-test_ebgp_high_capacity_routing-11.9\">11.9 test_ebgp_high_capacity_routing</a></span></li><li><span><a href=\"#11.10-test_ecmp_table_specs\" data-toc-modified-id=\"11.10-test_ecmp_table_specs-11.10\">11.10 test_ecmp_table_specs</a></span></li></ul></li><li><span><a href=\"#12.-FDB-tests\" data-toc-modified-id=\"12.-FDB-tests-12\">12. FDB tests</a></span><ul class=\"toc-item\"><li><span><a href=\"#12.1-test_acl_performance\" data-toc-modified-id=\"12.1-test_acl_performance-12.1\">12.1 test_acl_performance</a></span></li><li><span><a href=\"#12.2-test_fib4_performance\" data-toc-modified-id=\"12.2-test_fib4_performance-12.2\">12.2 test_fib4_performance</a></span></li><li><span><a href=\"#12.3-test_fib6_performance\" data-toc-modified-id=\"12.3-test_fib6_performance-12.3\">12.3 test_fib6_performance</a></span></li></ul></li><li><span><a href=\"#13.-LACP-Feature-Tests\" data-toc-modified-id=\"13.-LACP-Feature-Tests-13\">13. LACP Feature Tests</a></span><ul class=\"toc-item\"><li><span><a href=\"#13.1-test_lacp\" data-toc-modified-id=\"13.1-test_lacp-13.1\">13.1 test_lacp</a></span></li></ul></li><li><span><a href=\"#14.-Port-Related-Tests\" data-toc-modified-id=\"14.-Port-Related-Tests-14\">14. Port Related Tests</a></span><ul class=\"toc-item\"><li><span><a href=\"#14.1-test_mirroring_function\" data-toc-modified-id=\"14.1-test_mirroring_function-14.1\">14.1 test_mirroring_function</a></span></li><li><span><a href=\"#14.2-test_link_delay\" data-toc-modified-id=\"14.2-test_link_delay-14.2\">14.2 test_link_delay</a></span></li><li><span><a href=\"#14.3-test_port_buffer\" data-toc-modified-id=\"14.3-test_port_buffer-14.3\">14.3 test_port_buffer</a></span></li></ul></li><li><span><a href=\"#15.-VOQ/VRF-Tests\" data-toc-modified-id=\"15.-VOQ/VRF-Tests-15\">15. VOQ/VRF Tests</a></span><ul class=\"toc-item\"><li><span><a href=\"#15.1-test_voq_imix\" data-toc-modified-id=\"15.1-test_voq_imix-15.1\">15.1 test_voq_imix</a></span></li><li><span><a href=\"#15.2-test_vrf_functions\" data-toc-modified-id=\"15.2-test_vrf_functions-15.2\">15.2 test_vrf_functions</a></span></li></ul></li></ul></div>"
   ]
  },
  {
   "cell_type": "markdown",
   "id": "cd71d1cc",
   "metadata": {},
   "source": [
    "## 1. Quick Tests:\n",
    "<para> Users can run these tests to validate the basic functionality and basic traffic flow <param>"
   ]
  },
  {
   "cell_type": "markdown",
   "id": "bd059aea",
   "metadata": {},
   "source": [
    "### 1.1 STARTUP TEST\n",
    "#### 1.1.1 test_smoking_2_1\n",
    " - Validate software version information on DUT\n",
    "\n",
    "#### 1.1.2 test_smoking_2_2\n",
    " - Validate device EEPROM information on the DUT\n",
    "\n",
    "#### 1.1.3 test_smoking_2_3\n",
    " - Validate DUT memory usage before and after restart of the device\n",
    "\n",
    "#### 1.1.4 test_smoking_2_4\n",
    " - Validate device CPU usage\n",
    "\n",
    "#### 1.1.5 test_smoking_2_5\n",
    " - Validate device information: sensor, fan, power supply, and other related information are normal\n",
    "\n",
    "#### 1.1.6 test_smoking_2_8\n",
    " - Validate port functionality by sending ping between DUT ports and checking no packet loss\n",
    "\n",
    "#### 1.1.7 test_machine_restart\n",
    " - Validate DUT traffic recovery after DUT reboot\n",
    "\n",
    "### 1.2 BASIC PROTOCOL TESTS\n",
    "#### 1.2.1 test_smoking_2_7\n",
    " - Validate UDP, and TCP traffic flow between DUTs\n",
    "\n",
    "#### 1.2.2 test_smoking_2_10\n",
    " - Validate MAC basic functionality by configuring VLAN, checking the traffic flow, and mac learning on DUT\n",
    "\n",
    "#### 1.2.3 test_smoking_2_11\n",
    " - Validate the VLAN interface sends and receives ICMP packets and ARP status is up between two DUTs\n",
    "\n",
    "#### 1.2.4 test_smoking_2_12_1\n",
    " - Validate LACP basic functionality on layer2, by checking the negotiation is successful, the show port-channel summary, and the load sharing between the DUTs\n",
    "\n",
    "#### 1.2.5 test_smoking_2_12_2\n",
    " - Validate LACP basic functionality on layer3, by checking the negotiation is successful, the show port-channel summary, and the load sharing between the DUTs\n",
    "\n",
    "#### 1.2.6 test_smoking_2_12_2_3\n",
    " - Validate LACP basic functionality on layer3, by checking the negotiation is successful, the show port-channel summary, and the load sharing between the DUTs\n",
    "\n",
    "#### 1.2.7 test_smoking_2_12_3\n",
    " - Validate LACP basic functionality on layer3, by checking the negotiation is successful, the show port-channel summary, and the load sharing between the DUTs\n",
    "\n",
    "#### 1.2.8 test_smoking_2_13\n",
    " - Validate BGP basic functionality, by verifying the show BGP summary, IP route information, and the Layer 3 forwarding is normal between the DUTs\n",
    "\n",
    "#### 1.2.9 test_smoking_2_14\n",
    " - Validate LLDP functionality, by verifying the lldp neighbors in DUT\n"
   ]
  },
  {
   "cell_type": "markdown",
   "id": "a79c8dc0",
   "metadata": {},
   "source": [
    "## 2. IPv4 Feature Tests\n",
    "### 2.1 test_ipv4_from_down_status\n",
    " - Validate the IPv4 address configuration when the L3 interface is down\n",
    "\n",
    "### 2.2 test_ipv4_from_up_status\n",
    " - Validate the IPv4 address configuration when L3 interface is up\n",
    "\n",
    "### 2.3 test_ipv4_l3_msg\n",
    " - Validate if any errors reported when different classes of IP (class A, class B, class C and class D)\n",
    "\n",
    "### 2.4 test_ipv4_with_multiple_address_mask\n",
    " - Verify the L3 port status when 8-bit, 16-bit, 24-bit, 26-bit, 31-bit ipv4 addresses are configured\n",
    "\n",
    "### 2.5 test_ipv4_with_second_ip\n",
    " - Validate the IPv4 interface configuration when multiple IP addresses are configured. "
   ]
  },
  {
   "cell_type": "markdown",
   "id": "6a41de3d",
   "metadata": {},
   "source": [
    "## 3. IPv6 Feature Tests:\n",
    "### 3.1 test_ipv6_6_1\n",
    " - Validate frame loss with various frame sizes between traffic generator and DUT.\n",
    "\n",
    "### 3.2 test_ipv6_8_1\n",
    " - Validate MAC basic functionality by configuring VLAN, checking the traffic flow, and mac learning on DUT. \n",
    " \n",
    "### 3.3 test_ipv6_8_2\n",
    " - Validate the packet forwarding vs sending locally when HopLimit is configured\n",
    "\n",
    "### 3.4 test_ipv6_aggregation_port\n",
    " - Validate the port channel attachment to VLAN and validate traffic\n",
    " \n",
    "### 3.5 test_ipv6_from_down_status\n",
    " - Test to validate IPv6 address config when interface down state\n",
    "\n",
    "### 3.6 test_ipv6_from_up_status\n",
    " - Validate IPv6 address config when interface up state\n",
    " \n",
    "### 3.7 test_ipv6_loopback_interface\n",
    " - Validate IPv6 local address config\n",
    " \n",
    "### 3.8 test_ipv6_nd_converting_route\n",
    " - Validate IPv6 static route config\n",
    " \n",
    "### 3.9 test_ipv6_nd_scale\n",
    " - Validate IPv6 neighbour discovery on a specific interface and globally.\n",
    " \n",
    "### 3.10 test_ipv6_neighbor_discovery\n",
    " - Validate neighbour discovery, routing entry aging, deletion, and capability test\n",
    "\n",
    "### 3.11 test_nd_performance\n",
    " - Validate neighbour discovery table capacity and learning rate\n",
    "\n",
    "### 3.12 test_ipv6_source_address_restrain_forwarding\n",
    " - Validate IPv6 protocol status between DUTs when static route is configured.\n",
    "\n",
    "### 3.13 test_ipv6_source_address_selection\n",
    " - Validate address selection, when address is specified, if not specified, address should take the longest match.\n",
    " \n",
    "### 3.14 test_ipv6_static_route\n",
    " - Validate features of static route such as longest match, black hole route, route policy matching etc\n",
    "\n",
    "### 3.15 test_ipv6_traffic_bgp\n",
    " - Validate IPv6 message send/receive during large traffic forwarding\n",
    "\n",
    "### 3.16 test_ipv6_with_multiple_address_prefix\n",
    " - Validate IPv6 address config with mask 10-bit, 48-bit, 53-bit, 58-bit, 64-bit, 92-bit and 127-bit.\n",
    "\n",
    "### 3.17 test_ipv6_with_protocol_down_and_l3_interface\n",
    " - Validate IPv6 static route between DUTs and verify ICMPv6 communication.\n",
    "\n",
    "### 3.18 test_ipv6_with_second_ip\n",
    " - Validate multiple IPv6 address configuration\n"
   ]
  },
  {
   "cell_type": "markdown",
   "id": "1860b0d7",
   "metadata": {},
   "source": [
    "## 4. L2 Feature Tests\n",
    "### 4.1 test_l2_port_mtu_settings\n",
    " - Validate different MTU values for port\n",
    "\n",
    "### 4.2 test_l2_port_speed_fec\n",
    " - Validate port FEC on/off and port speed change\n",
    "\n",
    "### 4.3 test_l2_port_statistics\n",
    " - Validate traffic with different frame sizes\n",
    "\n",
    "### 4.4 test_l2_port_up_down\n",
    " - Validate physical port up and down and status change\n"
   ]
  },
  {
   "cell_type": "markdown",
   "id": "d9a8251e",
   "metadata": {},
   "source": [
    "## 5. RFC Tests\n",
    "### 5.1 test_RFC2544\n",
    " - Covers RFC2544 validation\n"
   ]
  },
  {
   "cell_type": "markdown",
   "id": "fe1ac9df",
   "metadata": {},
   "source": [
    "## 6. QOS Tests:\n",
    "### 6.1 test_qos\n",
    " - Validate QOS params and verify traffic flow\n"
   ]
  },
  {
   "cell_type": "markdown",
   "id": "2f4ebf2c",
   "metadata": {},
   "source": [
    "## 7. VLAN Feature Tests:\n",
    "### 7.1 test_vlan_performance\n",
    " - Validate creation of multiple tagged VLANs and traffic verification of tagged VLANs\n",
    "\n",
    "### 7.2 test_l3_vlan_settings\n",
    " - Validate untagged VLAN creation and MTU settings for VLAN interface.\n",
    "\n",
    "### 7.3 test_l3_vlan_performance\n",
    " - Verify the number of secondary IP addresses under VLAN interface.\n",
    "\n",
    "### 7.4 test_l2_vlan_settings\n",
    " - Validate port VLAN join/exit operations and VLAN create/delete operations.\n",
    "\n",
    "### 7.5 test_ipv6_with_protocol_down_and_vlan_interface\n",
    " - Create IPv6 static route between DUTs and create VLAN between DUT and tester and validate ICMPv6 communication\n"
   ]
  },
  {
   "cell_type": "markdown",
   "id": "685f4d3f",
   "metadata": {},
   "source": [
    "## 8. ACL Feature Tests:\n",
    "### 8.1 test_acl_performance\n",
    " - Validation of simple/complex ACL inbound and outbound directions\n"
   ]
  },
  {
   "cell_type": "markdown",
   "id": "d00001c7",
   "metadata": {},
   "source": [
    "## 9. ARP Feature Tests:\n",
    "### 9.1 test_arp_performance\n",
    " - Validate ARP table capacity and learning rate\n",
    "\n",
    "### 9.2 test_arp_proxy\n",
    " - Validate ARP resolve between DUTs\n",
    "\n",
    "### 9.3 test_l3_vlan_performance\n",
    " - Verify the number of secondary IP addresses under VLAN interface.\n",
    "\n",
    "### 9.4 test_l2_vlan_settings\n",
    " - Validate port VLAN join/exit operations and VLAN create/delete operations.\n",
    "\n",
    "### 9.5 test_ipv6_with_protocol_down_and_vlan_interface\n",
    " - Create IPv6 static route between DUTs and create VLAN between DUT and tester and validate ICMPv6 communication\n",
    "\n",
    "### 9.6 test_ipv4_l3_arp\n",
    " - Validate ARP between traffic generator and DUT, when IPv4 raw traffic item configured\n",
    "\n",
    "### 9.7 test_mac_performance\n",
    " - Validate the MAC learning and learning rate\n"
   ]
  },
  {
   "cell_type": "markdown",
   "id": "69c81090",
   "metadata": {},
   "source": [
    "## 10. DUAL-STACK Feature Tests:\n",
    "### 10.1 test_ipv4_ipv6_err_frame_processing\n",
    " - Validate CRC error and wrong frame length processing when both IPv4 and IPv6 stacks are created.\n",
    "\n",
    "### 10.2 test_ipv4_ipv6_l2_msg\n",
    " - Validate ARP resolve between DUTs\n",
    "\n",
    "### 10.3 test_ipv4_ipv6_maxip\n",
    " - Validate multiple IPv4 and IPv6 address on a single interface\n",
    "\n",
    "### 10.4 test_ipv4_ipv6_rfc2544\n",
    " - Validate throughput/latency/packet loss percentage using dual stack\n",
    "\n",
    "### 10.5 test_ipv4_ipv6_route_forwarding\n",
    " - Validate default route forwarding to ensure IPv4 and IPv6 resource capability.\n",
    "\n",
    "### 10.6 test_ipv4_ipv6_with_aggregation_interface\n",
    " - Validate IPv4 and IPv6 communication over aggregated interfaces.\n",
    "\n",
    "### 10.7 test_ipv4_ipv6_with_l3_interface\n",
    " - Validate ping between tester and DUT when dual stack created\n",
    "\n",
    "### 10.8 test_ipv4_ipv6_with_vlan_interface\n",
    " - Validate IPv4 and IPv6 communication over VLAN interfaces.\n"
   ]
  },
  {
   "cell_type": "markdown",
   "id": "a2ace5bb",
   "metadata": {},
   "source": [
    "## 11. BGP Feature Tests\n",
    "### 11.1 test_bgp_ecmp_convergence_speed\n",
    " - Validate BGP convergence when equal-cost multipath (ECMP) is configured.\n",
    "\n",
    "### 11.2 test_bgp_ecmp_flap\n",
    " - Validate route flap detection when equal-cost multipath (ECMP) is configured.\n",
    "\n",
    "### 11.3 test_bgp_functions\n",
    " - Validate BGP functions such as, neighbour establishment, route-update, route-forward and community attribute etc\n",
    " \n",
    "### 11.4 test_bgp_neighbor_number_flip_performance\n",
    " - Validate BGP performance with multiple neighbours and network addresses\n",
    "\n",
    "### 11.5 test_bgp_pressure_ecmp\n",
    " - Validate traffic loss when equal-cost multipath (ECMP) is configured.\n",
    "\n",
    "### 11.6 test_bgp_pressure_general\n",
    " - Validate BGP neighbour stability and port stability during ARP pressure\n",
    "\n",
    "### 11.7 test_bgp_route_flap\n",
    " - Validate BGP route flapping test\n",
    "\n",
    "### 11.8 test_ebgp_convergence_speed\n",
    " - Test to verify the BGP route convergence\n",
    "\n",
    "### 11.9 test_ebgp_high_capacity_routing\n",
    " - Validate high capacity routing convergence speed between DUTs\n",
    "\n",
    "### 11.10 test_ecmp_table_specs\n",
    " - Validate Tx/Rx packet counters are well within range between DUTs\n"
   ]
  },
  {
   "cell_type": "markdown",
   "id": "b9b1ffbe",
   "metadata": {},
   "source": [
    "## 12. FDB tests\n",
    "### 12.1 test_acl_performance\n",
    " - Validation of FDB related functions such as manual deletion, ageing and MAC static entry\n",
    "\n",
    "### 12.2 test_fib4_performance\n",
    " - Validate FDB functions with IPv4 address configured between tester and DUT\n",
    "\n",
    "### 12.3 test_fib6_performance\n",
    " - Validate FDB functions with IPv6 address configured between tester and DUT"
   ]
  },
  {
   "cell_type": "markdown",
   "id": "ef88dad3",
   "metadata": {},
   "source": [
    "## 13. LACP Feature Tests\n",
    "### 13.1 test_lacp\n",
    " - Validation of connectivity from tester to DUT via LAG ports over VLAN"
   ]
  },
  {
   "cell_type": "markdown",
   "id": "25dc7775",
   "metadata": {},
   "source": [
    "## 14. Port Related Tests\n",
    "### 14.1 test_mirroring_function\n",
    " - Validate port mirroring and stream mirroring\n",
    "\n",
    "### 14.2 test_link_delay\n",
    " - Validate the link delay and verify traffic\n",
    "\n",
    "### 14.3 test_port_buffer\n",
    " - Verification of port buffers\n"
   ]
  },
  {
   "cell_type": "markdown",
   "id": "def017d1",
   "metadata": {},
   "source": [
    "## 15. VOQ/VRF Tests\n",
    "### 15.1 test_voq_imix\n",
    " - Validate Virtual Output Queueing (VOQ) between tester and DUT\n",
    "\n",
    "### 15.2 test_vrf_functions\n",
    " - Validate Virtual Routing and Forwarding (VRF) under DUT\n"
   ]
  }
 ],
 "metadata": {
  "kernelspec": {
   "display_name": "Python 3 (ipykernel)",
   "language": "python",
   "name": "python3"
  },
  "language_info": {
   "codemirror_mode": {
    "name": "ipython",
    "version": 3
   },
   "file_extension": ".py",
   "mimetype": "text/x-python",
   "name": "python",
   "nbconvert_exporter": "python",
   "pygments_lexer": "ipython3",
   "version": "3.8.8"
  },
  "toc": {
   "base_numbering": 1,
   "nav_menu": {},
   "number_sections": false,
   "sideBar": true,
   "skip_h1_title": true,
   "title_cell": "Test Script Description",
   "title_sidebar": "Contents",
   "toc_cell": true,
   "toc_position": {
    "height": "calc(100% - 180px)",
    "left": "10px",
    "top": "150px",
    "width": "287.513px"
   },
   "toc_section_display": true,
   "toc_window_display": true
  }
 },
 "nbformat": 4,
 "nbformat_minor": 5
}
