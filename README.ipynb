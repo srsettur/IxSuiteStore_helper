{
 "cells": [
  {
   "cell_type": "markdown",
   "id": "ce3093ee",
   "metadata": {
    "toc": true
   },
   "source": [
    "<h1>Table of Contents<span class=\"tocSkip\"></span></h1>\n",
    "<div class=\"toc\"><ul class=\"toc-item\"><li><span><a href=\"#1.-Existing-workflow\" data-toc-modified-id=\"1.-Existing-workflow-1\"><font color=\"red\">1. Existing workflow</font></a></span><ul class=\"toc-item\"><li><span><a href=\"#1.-Developing-Test-Script-and-Testbed-information\" data-toc-modified-id=\"1.-Developing-Test-Script-and-Testbed-information-1.1\">1. Developing Test Script and Testbed information</a></span></li><li><span><a href=\"#2.-Script-execution\" data-toc-modified-id=\"2.-Script-execution-1.2\">2. Script execution</a></span></li><li><span><a href=\"#3.-Capturing-Results\" data-toc-modified-id=\"3.-Capturing-Results-1.3\">3. Capturing Results</a></span></li><li><span><a href=\"#4.-Drawbacks\" data-toc-modified-id=\"4.-Drawbacks-1.4\">4. Drawbacks</a></span></li></ul></li><li><span><a href=\"#2.-New-Automation-Workflow\" data-toc-modified-id=\"2.-New-Automation-Workflow-2\"><font color=\"red\">2. New Automation Workflow</font></a></span><ul class=\"toc-item\"><li><span><a href=\"#1.-User-develops-test-suites-containing-business-logic\" data-toc-modified-id=\"1.-User-develops-test-suites-containing-business-logic-2.1\">1. User develops test suites containing business logic</a></span></li><li><span><a href=\"#2.-User-creates-testbed-file-and-models-in-the-format-of-yaml\" data-toc-modified-id=\"2.-User-creates-testbed-file-and-models-in-the-format-of-yaml-2.2\">2. User creates testbed file and models in the format of yaml</a></span><ul class=\"toc-item\"><li><span><a href=\"#2.1-contents-of-testbed-file\" data-toc-modified-id=\"2.1-contents-of-testbed-file-2.2.1\">2.1 contents of testbed file</a></span></li><li><span><a href=\"#2.2-Contents-of-model-files\" data-toc-modified-id=\"2.2-Contents-of-model-files-2.2.2\">2.2 Contents of model files</a></span></li></ul></li><li><span><a href=\"#3.-Generic-framework\" data-toc-modified-id=\"3.-Generic-framework-2.3\">3. Generic framework</a></span></li><li><span><a href=\"#4.-Test-suite-execution\" data-toc-modified-id=\"4.-Test-suite-execution-2.4\">4. Test suite execution</a></span></li><li><span><a href=\"#5.-Capturing-test-results\" data-toc-modified-id=\"5.-Capturing-test-results-2.5\">5. Capturing test results</a></span></li></ul></li><li><span><a href=\"#3.-Test-Coverage-Details-and-Description-on-Script-Level\" data-toc-modified-id=\"3.-Test-Coverage-Details-and-Description-on-Script-Level-3\"><font color=\"red\">3. Test Coverage Details and Description on Script Level</font></a></span></li></ul></div>"
   ]
  },
  {
   "cell_type": "markdown",
   "id": "7c7fbd50",
   "metadata": {},
   "source": [
    "## <font color='red'>1. Existing workflow</font>"
   ]
  },
  {
   "cell_type": "markdown",
   "id": "afc38894",
   "metadata": {},
   "source": [
    "<img src=\"https://srsettur.github.io/IxSuiteStore_helper/Sonic_framework.JPG\" width=\"500\" height=\"340\" align=\"left\">"
   ]
  },
  {
   "cell_type": "markdown",
   "id": "557d6836",
   "metadata": {},
   "source": [
    "### 1. Developing Test Script and Testbed information\n",
    "The user develops the scripts and define the testbed information in ansible file system. Testbed information contains, \n",
    " - IXIA traffic generator\n",
    " - Devices that are running with Sonic software image\n",
    " - Port details that are connected with Ixia traffic generator and devices\n",
    " - VLAN information\n",
    "\n",
    "### 2. Script execution \n",
    "The provided business logic under the user script, gets executed based on the provided infrastructure under testbed information.\n",
    "\n",
    "### 3. Capturing Results\n",
    "During execution, IXIA traffic generator connects with the specified devices and the specific business logic is performed.\n",
    "User will be provided PASS/FAIL status after the execution is completed.\n"
   ]
  },
  {
   "cell_type": "markdown",
   "id": "cb7435ba",
   "metadata": {},
   "source": [
    "### 4. Drawbacks\n",
    " - For every customer scripts need to re-modeled/re-structured according to the test env. Which is time consuming and needs more efforts.\n",
    " - Need to install the test env for validation of the scripts.\n",
    " - We need to ask customer to validate in their env since dependency on the customer test env.\n",
    " - For multi-DUT testing, again the scripts needs to be modified.\n",
    " - no proper format of logs and logging is difficult. By default logs will not be stored.\n",
    "\n",
    "As the user script is tightly coupled with Sonic CLI and testbed information provided. This makes the user script to gets changed whenever there is a change in CLI or if the same script is to be ported to another vendor other than Sonic supported vendor"
   ]
  },
  {
   "cell_type": "markdown",
   "id": "d0563994",
   "metadata": {},
   "source": [
    "## <font color='red'>2. New Automation Workflow</font>"
   ]
  },
  {
   "cell_type": "markdown",
   "id": "2c085cf6",
   "metadata": {},
   "source": [
    "<img src=\"https://srsettur.github.io/IxSuiteStore_helper/NewAutomationFramwork.JPG\" width=\"500\" height=\"340\" align=\"left\">"
   ]
  },
  {
   "cell_type": "markdown",
   "id": "94ddaaea",
   "metadata": {},
   "source": [
    "### 1. User develops test suites containing business logic\n",
    "### 2. User creates testbed file and models in the format of yaml\n",
    "#### 2.1 contents of testbed file\n",
    " - IXIA API server details\n",
    " - Chassis to device interconnection details\n",
    " - Device to device interconnection details\n",
    " - Username and password for devices to provide ssh login\n",
    " - type of device (such as Cisco, Juniper, Sonic etc)\n",
    " "
   ]
  },
  {
   "cell_type": "markdown",
   "id": "0bddcaae",
   "metadata": {},
   "source": [
    "<em>Testbed file with IXIA configuration</em>\n",
    "<br>\n",
    "<img src=\"https://srsettur.github.io/IxSuiteStore_helper/Testbed_IXIA_config.JPG\" width=\"300\" height=\"300\" align=\"left\">"
   ]
  },
  {
   "cell_type": "markdown",
   "id": "16c5057b",
   "metadata": {},
   "source": [
    "<em>Testbed file with DUT configuration</em>\n",
    "<br>\n",
    "<img src=\"https://srsettur.github.io/IxSuiteStore_helper/Testbed_DUT_config.JPG\" width=\"300\" height=\"300\" align=\"left\">"
   ]
  },
  {
   "cell_type": "markdown",
   "id": "e1108c4d",
   "metadata": {},
   "source": [
    "#### 2.2 Contents of model files\n",
    " - CLI commands that are mapped to API specified\n",
    " - The required command mode to perform the CLI\n",
    " - Pattern of different command modes"
   ]
  },
  {
   "cell_type": "markdown",
   "id": "1a0962e6",
   "metadata": {},
   "source": [
    "<em>Sample model file written in yaml</em>\n",
    "<br>\n",
    "<img src=\"https://srsettur.github.io/IxSuiteStore_helper/Sample_model_File.JPG\" width=\"500\" height=\"300\" align=\"left\">"
   ]
  },
  {
   "cell_type": "markdown",
   "id": "529dff9c",
   "metadata": {},
   "source": [
    "### 3. Generic framework\n",
    "The new automation framework, maps the APIs under the test script, with the models and returns the CLI that needs to be executed.\n",
    "\n",
    "### 4. Test suite execution\n",
    "The framework is also responsible creating/managing connections with IXIA traffic generator and also with the specified devices. "
   ]
  },
  {
   "cell_type": "markdown",
   "id": "5f66f15e",
   "metadata": {},
   "source": [
    "### 5. Capturing test results\n",
    " - The test logs are available under 'Results' tab in IxStoreStore\n",
    " - Status(PASS/FAIL) of the test will also be visible to the user in IxStoreStore\n",
    "\n",
    "User scripts are separated from framework, this gives freedom to user to migrate the same testcase for different vendor specific devices running with any other software images like Cisco IOS, JunOS etc. By default Sonic community CLI is supported"
   ]
  },
  {
   "cell_type": "markdown",
   "id": "3a21deeb",
   "metadata": {},
   "source": [
    "## <font color='red'>3. Test Coverage Details and Description on Script Level</font>"
   ]
  },
  {
   "cell_type": "markdown",
   "id": "d0ded17c",
   "metadata": {},
   "source": [
    "<a href=\"https://srsettur.github.io/IxSuiteStore_helper/TestScenarioCoverage.html\">Please find the scenario coverage details </a>"
   ]
  },
  {
   "cell_type": "markdown",
   "id": "fb41afb7",
   "metadata": {},
   "source": [
    "<a href=\"https://srsettur.github.io/IxSuiteStore_helper/TestCaseDescription.html\">Script wise Description</a>"
   ]
  }
 ],
 "metadata": {
  "kernelspec": {
   "display_name": "Python 3 (ipykernel)",
   "language": "python",
   "name": "python3"
  },
  "language_info": {
   "codemirror_mode": {
    "name": "ipython",
    "version": 3
   },
   "file_extension": ".py",
   "mimetype": "text/x-python",
   "name": "python",
   "nbconvert_exporter": "python",
   "pygments_lexer": "ipython3",
   "version": "3.8.8"
  },
  "toc": {
   "base_numbering": 1,
   "nav_menu": {},
   "number_sections": false,
   "sideBar": true,
   "skip_h1_title": true,
   "title_cell": "Table of Contents",
   "title_sidebar": "Contents",
   "toc_cell": true,
   "toc_position": {
    "height": "calc(100% - 180px)",
    "left": "10px",
    "top": "150px",
    "width": "287.513px"
   },
   "toc_section_display": true,
   "toc_window_display": true
  }
 },
 "nbformat": 4,
 "nbformat_minor": 5
}
